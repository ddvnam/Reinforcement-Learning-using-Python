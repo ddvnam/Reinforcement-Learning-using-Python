{
 "cells": [
  {
   "cell_type": "code",
   "execution_count": 2,
   "id": "f59d32c8",
   "metadata": {},
   "outputs": [],
   "source": [
    "# Problem: You're going out, do you need umbrella\n",
    "\n",
    "# State: Rainy, Cloudy, Sunny\n",
    "# Action: Umbrella, No Umbrella \n",
    "# Reward\n",
    "# Transition Model\n",
    "# Discounted Factor"
   ]
  },
  {
   "cell_type": "code",
   "execution_count": 3,
   "id": "b1bdfad9",
   "metadata": {},
   "outputs": [],
   "source": [
    "import numpy as np\n",
    "import matplotlib.pyplot as plt"
   ]
  },
  {
   "cell_type": "code",
   "execution_count": 5,
   "id": "e750a422",
   "metadata": {},
   "outputs": [
    {
     "name": "stdout",
     "output_type": "stream",
     "text": [
      "Optimal Policy: \n",
      "{'Rainy': 'Umbrella', 'Cloudy': 'Umbrella', 'Sunny': 'No Umbrella'}\n"
     ]
    }
   ],
   "source": [
    "states = ['Rainy', 'Cloudy', 'Sunny']\n",
    "actions = ['Umbrella', 'No Umbrella']\n",
    "rewards = {'Rainy': {'Umbrella': -1, 'No Umbrella': -5},\n",
    "           'Cloudy': {'Umbrella': -1, 'No Umbrella': -5},\n",
    "           'Sunny': {'Umbrella': -5, 'No Umbrella': -1}\n",
    "           }\n",
    "\n",
    "transition = {\n",
    "    'Rainy': {'Umbrella' : {'Rainy' : 0.7, 'Cloudy': 0.3, 'Sunny': 0.0},\n",
    "              'No Umbrella': {'Rainy': 0.3, 'Cloudy': 0.4, 'Sunny': 0.3}\n",
    "              },\n",
    "    'Cloudy': {'Umbrella' : {'Rainy' : 0.4, 'Cloudy': 0.6, 'Sunny': 0.0},\n",
    "              'No Umbrella': {'Rainy': 0.0, 'Cloudy': 0.7, 'Sunny': 0.3}\n",
    "              },\n",
    "    'Sunny': {'Umbrella' : {'Rainy' : 0.0, 'Cloudy': 0.0, 'Sunny': 1.0},\n",
    "              'No Umbrella': {'Rainy': 0.0, 'Cloudy': 0.4, 'Sunny': 0.6}\n",
    "              }\n",
    "}\n",
    "\n",
    "discounted_factor = 0.9\n",
    "\n",
    "def value_iteration():\n",
    "    V = {s : 0 for s in states}\n",
    "    while True:\n",
    "        new_V = {}\n",
    "        for state in states:\n",
    "            values = []\n",
    "            for action in actions:\n",
    "                value = rewards[state][action]\n",
    "                for state_2 in states:\n",
    "                    value += discounted_factor*transition[state][action][state_2]*V[state_2]\n",
    "                values.append(value)\n",
    "            new_V[state] = max(values)\n",
    "\n",
    "        if all(abs(new_V[s] - V[s]) < 0.0001 for s in states):\n",
    "            return new_V\n",
    "        V = new_V\n",
    "\n",
    "V = value_iteration()\n",
    "\n",
    "policy = {}\n",
    "for s in states:\n",
    "    values = []\n",
    "    for a in actions:\n",
    "        value = rewards[s][a]\n",
    "        for s2 in states:\n",
    "            value += discounted_factor*transition[s][a][s2]*V[s2]\n",
    "        values.append(value)\n",
    "    policy[s] = actions[np.argmax(values)]\n",
    "\n",
    "print('Optimal Policy: ')\n",
    "print(policy)\n"
   ]
  }
 ],
 "metadata": {
  "kernelspec": {
   "display_name": "Python 3",
   "language": "python",
   "name": "python3"
  },
  "language_info": {
   "codemirror_mode": {
    "name": "ipython",
    "version": 3
   },
   "file_extension": ".py",
   "mimetype": "text/x-python",
   "name": "python",
   "nbconvert_exporter": "python",
   "pygments_lexer": "ipython3",
   "version": "3.12.1"
  }
 },
 "nbformat": 4,
 "nbformat_minor": 5
}
